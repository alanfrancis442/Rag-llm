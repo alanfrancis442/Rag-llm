{
 "cells": [
  {
   "cell_type": "code",
   "execution_count": 1,
   "metadata": {},
   "outputs": [],
   "source": [
    "#read pdf\n",
    "from langchain_community.document_loaders import PyPDFLoader\n",
    "\n",
    "loader = PyPDFLoader(\"js_pdf.pdf\")\n",
    "\n",
    "documents = loader.load()"
   ]
  },
  {
   "cell_type": "code",
   "execution_count": 3,
   "metadata": {},
   "outputs": [
    {
     "name": "stdout",
     "output_type": "stream",
     "text": [
      "Split 29 documents into 41 chunks\n"
     ]
    }
   ],
   "source": [
    "#use text splitter\n",
    "from langchain.text_splitter import RecursiveCharacterTextSplitter\n",
    "text_splitter = RecursiveCharacterTextSplitter(chunk_size=1000, chunk_overlap=50)\n",
    "texts = text_splitter.split_documents(documents)\n",
    "print(f\"Split {len(documents)} documents into {len(texts)} chunks\")"
   ]
  },
  {
   "cell_type": "code",
   "execution_count": 4,
   "metadata": {},
   "outputs": [
    {
     "data": {
      "text/plain": [
       "[Document(page_content='\\xa0\\n\\xa0\\n\\xa0\\n\\xa0\\n\\xa0\\n\\xa0\\n\\xa0\\nBeginner’s Essential\\n \\nJavascript Cheat Sheet\\n\\xa0\\n\\xa0\\n\\xa0\\n\\xa0\\n\\xa0\\n\\xa0\\n\\xa0\\n\\xa0\\n\\xa0\\n\\xa0\\n\\xa0\\nThe language of the web.\\n\\xa0\\n\\xa0\\n\\xa0\\n\\xa0\\n\\xa0\\n\\xa0\\n\\xa0\\n\\xa0\\n\\xa0\\n\\xa0\\n\\xa0\\n\\xa0\\n\\xa0\\n\\xa0\\n\\xa0\\n\\xa0\\n \\n \\n ', metadata={'source': 'js_pdf.pdf', 'page': 0}),\n",
       " Document(page_content='Table of Contents\\n\\xa0\\n \\nJavascript Basics\\n \\n2\\n \\nVariables\\n \\n2\\n \\nArrays\\n \\n3\\n \\nOperators\\n \\n4\\n \\nFunctions\\n \\n5\\n \\nLoops\\n \\n7\\n \\nIf - Else Statements\\n \\n7\\n \\nStrings\\n \\n7\\n \\nRegular Expressions\\n \\n9\\n \\nNumbers and Math\\n \\n10\\n \\nDealing with Dates\\n \\n12\\n \\nDOM Node\\n \\n14\\n \\nWorking with the Browser\\n \\n18\\n \\nEvents\\n \\n21\\n \\nErrors\\n \\n27\\n \\n \\n \\n\\xa0\\nWebsiteSetup.org - Beginner’s Javascript Cheat Sheet                                                                                      \\u200b\\n  \\u200b\\n1\\n ', metadata={'source': 'js_pdf.pdf', 'page': 1}),\n",
       " Document(page_content='Javascript Basics\\n\\xa0\\nIncluding JavaScript in an HTML Page\\n \\n \\n<script type=\"text/javascript\">\\n \\n \\n  //JS code goes here\\n \\n \\n</script>\\n \\n \\nCall an External JavaScript File\\n \\n \\n<script src=\"myscript.js\"></script><code></code>\\n \\n \\nIncluding Comments\\n \\n \\n//\\n \\nSingle line comments\\n\\xa0\\n\\xa0\\n/* comment here */\\n \\nMulti-line comments\\n\\xa0\\nVariables\\n\\xa0\\nvar, const, let\\n \\n \\nvar\\n \\nThe most common variable. Can be reassigned but only accessed within a function. Variables\\n\\xa0\\ndefined with var move to the top when code is executed.\\n\\xa0\\n\\xa0\\nconst\\n \\nCannot be reassigned and not accessible before they appear within the code.\\n\\xa0\\n\\xa0\\nlet\\n \\nSimilar to const, however, let variable can be reassigned but not re-declared.\\n\\xa0\\n\\xa0\\nData Types\\n \\n \\nvar age = 23\\n \\n \\nNumbers\\n\\xa0\\nvar x\\n \\nVariables\\n\\xa0\\n\\xa0\\nWebsiteSetup.org - Beginner’s Javascript Cheat Sheet                                                                                      \\u200b\\n  \\u200b\\n2\\n ', metadata={'source': 'js_pdf.pdf', 'page': 2}),\n",
       " Document(page_content='var a = \"init\"\\n \\nText (strings)\\n\\xa0\\nvar b = 1 + 2 + 3\\n \\n \\nOperations\\n\\xa0\\nvar c = true\\n \\nTrue or false statements\\n\\xa0\\nconst PI = 3.14\\n \\nConstant numbers\\n\\xa0\\nvar name = {firstName:\"John\", lastName:”Doe\"}\\n \\n \\nObjects\\n\\xa0\\nObjects\\n \\n \\nvar person = {\\n \\n \\n  firstName:\"John\",\\n \\n \\n  lastName:\"Doe\",\\n \\n \\n  age:20,\\n \\n \\n  nationality:\"German\"\\n \\n \\n};\\n \\nArrays\\n\\xa0\\nvar fruit = [\"Banana\", \"Apple\", \"Pear\"];\\n \\n \\nArray Methods\\n \\n \\nconcat()\\n \\nJoin several arrays into one\\n\\xa0\\n\\xa0\\nindexOf()\\n \\nReturns the first position at which a given element appears in an array\\n\\xa0\\njoin()\\n \\nCombine elements of an array into a single string and return the string\\n\\xa0\\n\\xa0\\nlastIndexOf()\\n \\nGives the last position at which a given element appears in an array\\n\\xa0\\n\\xa0\\n \\n \\n \\n\\xa0\\nWebsiteSetup.org - Beginner’s Javascript Cheat Sheet                                                                                      \\u200b\\n  \\u200b\\n3\\n ', metadata={'source': 'js_pdf.pdf', 'page': 3}),\n",
       " Document(page_content='pop()\\n \\nRemoves the last element of an array\\n\\xa0\\n\\xa0\\npush()\\n \\nAdd a new element at the end\\n\\xa0\\n\\xa0\\nreverse()\\n \\nReverse the order of the elements in an array\\n\\xa0\\n\\xa0\\nshift()\\n \\nRemove the first element of an array\\n\\xa0\\n\\xa0\\nslice()\\n \\nPulls a copy of a portion of an array into a new array \\u200b\\nof 4 24\\n\\xa0\\n\\xa0\\nsort()\\n \\nSorts elements alphabetically\\n\\xa0\\n\\xa0\\nsplice()\\n \\nAdds elements in a specified way and position\\n\\xa0\\n\\xa0\\ntoString()\\n \\nConverts elements to strings\\n\\xa0\\n\\xa0\\nunshift()\\n \\nAdds a new element to the beginning\\n\\xa0\\n\\xa0\\nvalueOf()\\n \\nReturns the primitive value of the specified object\\n\\xa0\\n\\xa0\\nOperators\\n\\xa0\\nBasic Operators\\n \\n \\n+\\n \\nAddition\\n \\n \\n-\\n \\nSubtraction\\n \\n \\n*\\n \\nMultiplication\\n \\n \\n/\\n \\nDivision\\n \\n \\n(..)\\nGrouping operator\\n \\n \\n%\\nModulus (remainder)\\n \\n \\n++\\nIncrement numbers\\n \\n \\n--\\nDecrement numbers\\n \\n \\n\\xa0\\nWebsiteSetup.org - Beginner’s Javascript Cheat Sheet                                                                                      \\u200b\\n  \\u200b\\n4\\n ', metadata={'source': 'js_pdf.pdf', 'page': 4})]"
      ]
     },
     "execution_count": 4,
     "metadata": {},
     "output_type": "execute_result"
    }
   ],
   "source": [
    "documents[:5]"
   ]
  },
  {
   "cell_type": "code",
   "execution_count": 8,
   "metadata": {},
   "outputs": [],
   "source": [
    "#code for embedding\n",
    "from langchain_community.embeddings import OllamaEmbeddings\n",
    "from langchain_community.vectorstores import Chroma\n",
    "embeddings = OllamaEmbeddings(model='mxbai-embed-large')\n",
    "\n",
    "db = Chroma.from_documents(texts[:5], embeddings)\n"
   ]
  },
  {
   "cell_type": "code",
   "execution_count": 9,
   "metadata": {},
   "outputs": [],
   "source": [
    "from langchain_community.llms import ollama\n",
    "llm = ollama.Ollama(model=\"gemma:2b\",temperature=1)\n"
   ]
  },
  {
   "cell_type": "code",
   "execution_count": 23,
   "metadata": {},
   "outputs": [],
   "source": [
    "#creating chat prompt template\n",
    "from langchain_core.prompts import ChatPromptTemplate\n",
    "\n",
    "prompt = ChatPromptTemplate.from_template(\n",
    "    \"\"\"\n",
    "you are a helpful assistant who will give me answer to the following questions based on the provided context\n",
    "<context>\n",
    "{context}\n",
    "</context>\n",
    "\n",
    "question:{input}\n",
    "\"\"\"\n",
    ")"
   ]
  },
  {
   "cell_type": "code",
   "execution_count": 24,
   "metadata": {},
   "outputs": [],
   "source": [
    "from langchain.chains.combine_documents import create_stuff_documents_chain\n",
    "\n",
    "document_chain = create_stuff_documents_chain(llm, prompt)"
   ]
  },
  {
   "cell_type": "code",
   "execution_count": 25,
   "metadata": {},
   "outputs": [
    {
     "data": {
      "text/plain": [
       "VectorStoreRetriever(tags=['Chroma', 'OllamaEmbeddings'], vectorstore=<langchain_community.vectorstores.chroma.Chroma object at 0x000001D8CED3D2E0>)"
      ]
     },
     "execution_count": 25,
     "metadata": {},
     "output_type": "execute_result"
    }
   ],
   "source": [
    "retriver = db.as_retriever()\n",
    "retriver"
   ]
  },
  {
   "cell_type": "code",
   "execution_count": 26,
   "metadata": {},
   "outputs": [],
   "source": [
    "from langchain.chains import create_retrieval_chain\n",
    "retriveal_chain = create_retrieval_chain(retriver,document_chain)"
   ]
  },
  {
   "cell_type": "code",
   "execution_count": 34,
   "metadata": {},
   "outputs": [],
   "source": [
    "response = retriveal_chain.invoke({\"input\":\"what is the title of the text?\"})\n",
    "# response."
   ]
  },
  {
   "cell_type": "code",
   "execution_count": 35,
   "metadata": {},
   "outputs": [
    {
     "data": {
      "text/plain": [
       "\"The provided text is a Beginner's Essential Javascript Cheat Sheet.\""
      ]
     },
     "execution_count": 35,
     "metadata": {},
     "output_type": "execute_result"
    }
   ],
   "source": [
    "response['answer']"
   ]
  },
  {
   "cell_type": "code",
   "execution_count": 36,
   "metadata": {},
   "outputs": [],
   "source": [
    "from langchain_community.document_loaders import TextLoader\n",
    "\n",
    "loader = TextLoader(\"sample.txt\")\n",
    "\n",
    "text = loader.load()\n",
    "bd = Chroma.from_documents(text,embeddings)\n",
    "text_retrive = db.as_retriever()\n"
   ]
  },
  {
   "cell_type": "code",
   "execution_count": 38,
   "metadata": {},
   "outputs": [],
   "source": [
    "text_retriver_chain = create_retrieval_chain(retriver,document_chain)#you shoulld create a new db for this process"
   ]
  }
 ],
 "metadata": {
  "kernelspec": {
   "display_name": "env",
   "language": "python",
   "name": "python3"
  },
  "language_info": {
   "codemirror_mode": {
    "name": "ipython",
    "version": 3
   },
   "file_extension": ".py",
   "mimetype": "text/x-python",
   "name": "python",
   "nbconvert_exporter": "python",
   "pygments_lexer": "ipython3",
   "version": "3.12.2"
  }
 },
 "nbformat": 4,
 "nbformat_minor": 2
}
