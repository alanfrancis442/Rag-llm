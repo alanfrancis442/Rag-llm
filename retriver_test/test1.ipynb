{
 "cells": [
  {
   "cell_type": "code",
   "execution_count": 2,
   "metadata": {},
   "outputs": [],
   "source": [
    "from langchain_community.embeddings import OllamaEmbeddings\n",
    "from langchain_community.llms import ollama\n",
    "from langchain_core.prompts import ChatPromptTemplate\n"
   ]
  },
  {
   "cell_type": "code",
   "execution_count": 11,
   "metadata": {},
   "outputs": [],
   "source": [
    "prompt = ChatPromptTemplate.from_template(\n",
    "    \"\"\"\n",
    "you are a helpful assistant who will give me answer to the following questions based on the provided context if the answer is not in the context and you know the answer you can\n",
    "provide the answer based on your knowleadge\n",
    "<context>\n",
    "{context}\n",
    "</context>\n",
    "\n",
    "question:{input}\n",
    "\"\"\"\n",
    ")\n",
    "model = ollama.Ollama(model='gemma:2b',temperature=0.5)\n",
    "embedding = OllamaEmbeddings(model='mxbai-embed-large')\n"
   ]
  },
  {
   "cell_type": "code",
   "execution_count": 12,
   "metadata": {},
   "outputs": [],
   "source": [
    "from langchain.chains.combine_documents import create_stuff_documents_chain\n",
    "\n",
    "document_chain = create_stuff_documents_chain(model, prompt)"
   ]
  },
  {
   "cell_type": "code",
   "execution_count": 18,
   "metadata": {},
   "outputs": [
    {
     "data": {
      "text/plain": [
       "'**Pathway API**\\n\\nA pathway API is a RESTful API that defines and manages the execution of business workflows. It provides a programmatic way for applications to discover, execute, monitor, and manage workflows.\\n\\n**Purpose of Pathway API:**\\n\\n- Simplify the interaction between applications and business processes.\\n- Enable seamless execution of complex workflows.\\n- Provide a centralized management hub for tracking and monitoring workflow execution.\\n- Automate the execution of workflows based on predefined rules and conditions.\\n\\n**Key Features of Pathway API:**\\n\\n- **Discovery:** Allows applications to find available workflows and their parameters.\\n- **Execution:** Enables the execution of workflows based on predefined rules.\\n- **Monitoring:** Provides real-time tracking and status updates of workflow execution.\\n- **Management:** Allows administrators to create, modify, and monitor workflows.\\n- **Security:** Enforces security and governance policies for workflow execution.\\n\\n**Benefits of Pathway API:**\\n\\n- Improved workflow efficiency\\n- Enhanced collaboration and transparency\\n- Reduced development time and costs\\n- Improved decision-making through workflow monitoring\\n- Automation of business processes'"
      ]
     },
     "execution_count": 18,
     "metadata": {},
     "output_type": "execute_result"
    }
   ],
   "source": [
    "answer = document_chain.invoke({\n",
    "    \"input\": \"What is pathway api\",'context':\"\"})\n",
    "answer"
   ]
  },
  {
   "cell_type": "code",
   "execution_count": 27,
   "metadata": {},
   "outputs": [],
   "source": [
    "from langchain_community.vectorstores import PathwayVectorClient\n",
    "#test_url = \"https://demo-document-indexing.pathway.stream\" \n",
    "test_url = \"https://pathway.com/developers/api-docs/pathway/\" \n",
    "client = PathwayVectorClient(url=test_url)"
   ]
  },
  {
   "cell_type": "code",
   "execution_count": null,
   "metadata": {},
   "outputs": [],
   "source": [
    "from langchain_community.vectorstores import chroma\n"
   ]
  }
 ],
 "metadata": {
  "kernelspec": {
   "display_name": "env",
   "language": "python",
   "name": "python3"
  },
  "language_info": {
   "codemirror_mode": {
    "name": "ipython",
    "version": 3
   },
   "file_extension": ".py",
   "mimetype": "text/x-python",
   "name": "python",
   "nbconvert_exporter": "python",
   "pygments_lexer": "ipython3",
   "version": "3.12.2"
  }
 },
 "nbformat": 4,
 "nbformat_minor": 2
}
