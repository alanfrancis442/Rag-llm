{
 "cells": [
  {
   "cell_type": "code",
   "execution_count": 4,
   "metadata": {},
   "outputs": [],
   "source": [
    "from langchain_community.tools import YouTubeSearchTool"
   ]
  },
  {
   "cell_type": "code",
   "execution_count": 5,
   "metadata": {},
   "outputs": [],
   "source": [
    "tool = YouTubeSearchTool()"
   ]
  },
  {
   "cell_type": "code",
   "execution_count": 8,
   "metadata": {},
   "outputs": [
    {
     "data": {
      "text/plain": [
       "\"['https://www.youtube.com/watch?v=nogh434ykF0&pp=ygUhaG93IHRvIGJlY29tZSBnb29kIGF0IHByb2dyYW1taW5n', 'https://www.youtube.com/watch?v=GGSmywkXKOE&pp=ygUhaG93IHRvIGJlY29tZSBnb29kIGF0IHByb2dyYW1taW5n', 'https://www.youtube.com/watch?v=au-Oixsfpmk&pp=ygUhaG93IHRvIGJlY29tZSBnb29kIGF0IHByb2dyYW1taW5n', 'https://www.youtube.com/watch?v=79pKwdiqcwI&pp=ygUhaG93IHRvIGJlY29tZSBnb29kIGF0IHByb2dyYW1taW5n', 'https://www.youtube.com/watch?v=XklQac5WLs4&pp=ygUhaG93IHRvIGJlY29tZSBnb29kIGF0IHByb2dyYW1taW5n']\""
      ]
     },
     "execution_count": 8,
     "metadata": {},
     "output_type": "execute_result"
    }
   ],
   "source": [
    "tool.run('how to become good at programming,5')"
   ]
  },
  {
   "cell_type": "code",
   "execution_count": 12,
   "metadata": {},
   "outputs": [],
   "source": [
    "from langchain_community.tools import DuckDuckGoSearchRun"
   ]
  },
  {
   "cell_type": "code",
   "execution_count": 18,
   "metadata": {},
   "outputs": [],
   "source": [
    "search = DuckDuckGoSearchRun()"
   ]
  },
  {
   "cell_type": "code",
   "execution_count": 19,
   "metadata": {},
   "outputs": [
    {
     "data": {
      "text/plain": [
       "'Minecraft first launched for players around the world on May 17, 2009 on PC. At this time, the game from legendary creator Markus \"Notch\" Persson didn\\'t even have the familiar name we all ... In 2009, Markus \"Notch\" Persson launched a website called minecraft.net. It was a humble little website where players could pay a small fee of only $5 to test out the ambitious new sandbox title. Minecraft: Education Edition - Learning through Play. In 2015, Microsoft, the new owner of Minecraft, launched Minecraft: Education Edition. Designed for educational purposes, this version offers tools and resources for teachers and students to foster creativity, collaboration, and problem-solving skills. Minecraft Today: A Global Phenomenon It\\'s hard to believe, but we\\'re coming up on the 15th anniversary of Minecraft.When it first launched on May 17, 2009, it was called \"Cave Game,\" but it was the undeniable basis for what ... As we come up to 2023, the site frames Minecraft more as a community than as an actual game, which is a testament to how much the space has grown since Minecraft launched 12 years ago.'"
      ]
     },
     "execution_count": 19,
     "metadata": {},
     "output_type": "execute_result"
    },
    {
     "name": "stderr",
     "output_type": "stream",
     "text": [
      "d:\\programming\\python\\lang_chain\\ollma_pro_1\\env\\Lib\\site-packages\\curl_cffi\\aio.py:204: UserWarning: Curlm alread closed! quitting from process_data\n",
      "  warnings.warn(\"Curlm alread closed! quitting from process_data\")\n"
     ]
    }
   ],
   "source": [
    "search.run(\"when was minecraft launched\")"
   ]
  }
 ],
 "metadata": {
  "kernelspec": {
   "display_name": "env",
   "language": "python",
   "name": "python3"
  },
  "language_info": {
   "codemirror_mode": {
    "name": "ipython",
    "version": 3
   },
   "file_extension": ".py",
   "mimetype": "text/x-python",
   "name": "python",
   "nbconvert_exporter": "python",
   "pygments_lexer": "ipython3",
   "version": "3.12.2"
  }
 },
 "nbformat": 4,
 "nbformat_minor": 2
}
