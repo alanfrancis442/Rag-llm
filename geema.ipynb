{
 "cells": [
  {
   "cell_type": "code",
   "execution_count": 1,
   "metadata": {},
   "outputs": [],
   "source": [
    "from langchain.llms import ollama\n",
    "from langchain.callbacks.manager import CallbackManager\n",
    "from langchain.callbacks.streaming_stdout import StreamingStdOutCallbackHandler"
   ]
  },
  {
   "cell_type": "code",
   "execution_count": 2,
   "metadata": {},
   "outputs": [],
   "source": [
    "llm = ollama.Ollama(model=\"gemma:2b\",temperature=1,callback_manager=CallbackManager([StreamingStdOutCallbackHandler()]))"
   ]
  },
  {
   "cell_type": "code",
   "execution_count": 3,
   "metadata": {},
   "outputs": [
    {
     "name": "stderr",
     "output_type": "stream",
     "text": [
      "d:\\programming\\python\\lang_chain\\ollma_pro_1\\env\\Lib\\site-packages\\langchain_core\\_api\\deprecation.py:117: LangChainDeprecationWarning: The function `__call__` was deprecated in LangChain 0.1.7 and will be removed in 0.2.0. Use invoke instead.\n",
      "  warn_deprecated(\n"
     ]
    },
    {
     "name": "stdout",
     "output_type": "stream",
     "text": [
      "I am a large language model, trained by Google. I am developed in collaboration with a team of engineers and researchers at Google."
     ]
    },
    {
     "data": {
      "text/plain": [
       "'I am a large language model, trained by Google. I am developed in collaboration with a team of engineers and researchers at Google.'"
      ]
     },
     "execution_count": 3,
     "metadata": {},
     "output_type": "execute_result"
    }
   ],
   "source": [
    "llm('who created you')"
   ]
  },
  {
   "cell_type": "code",
   "execution_count": 6,
   "metadata": {},
   "outputs": [],
   "source": [
    "from langchain.prompts import PromptTemplate"
   ]
  },
  {
   "cell_type": "code",
   "execution_count": 30,
   "metadata": {},
   "outputs": [],
   "source": [
    "prompt_template = PromptTemplate(\n",
    "    input_variables=[\"text\"],\n",
    "    template=\"you are a helpfull ai assistant and you will give me one project ideas name based on {text}, you will only give the name of the \",\n",
    ")"
   ]
  },
  {
   "cell_type": "code",
   "execution_count": 31,
   "metadata": {},
   "outputs": [
    {
     "name": "stdout",
     "output_type": "stream",
     "text": [
      "**1. Dynamic Website Generation with Client-Side Scripting**"
     ]
    },
    {
     "data": {
      "text/plain": [
       "'**1. Dynamic Website Generation with Client-Side Scripting**'"
      ]
     },
     "execution_count": 31,
     "metadata": {},
     "output_type": "execute_result"
    }
   ],
   "source": [
    "from langchain.chains import LLMChain\n",
    "\n",
    "chain = LLMChain(llm=llm, prompt=prompt_template)\n",
    "chain.run(\"java script\")"
   ]
  },
  {
   "cell_type": "code",
   "execution_count": 34,
   "metadata": {},
   "outputs": [],
   "source": [
    "detail_template2 = PromptTemplate(\n",
    "    input_variables=[\"option\"],\n",
    "    template=\"guid me on how to make {option}\",\n",
    ")\n",
    "detail_chain = LLMChain(llm=llm, prompt=detail_template2)\n",
    "\n",
    "# detail_chain.run(\"1\")"
   ]
  },
  {
   "cell_type": "code",
   "execution_count": 11,
   "metadata": {},
   "outputs": [],
   "source": [
    "#simple seequestial chain\n",
    "from langchain.chains import SimpleSequentialChain\n"
   ]
  },
  {
   "cell_type": "code",
   "execution_count": 35,
   "metadata": {},
   "outputs": [
    {
     "name": "stdout",
     "output_type": "stream",
     "text": [
      "\n",
      "\n",
      "\u001b[1m> Entering new SimpleSequentialChain chain...\u001b[0m\n",
      "**Project Idea: Interactive Web Dashboard for Real-Time Data Visualization**\u001b[36;1m\u001b[1;3m**Project Idea: Interactive Web Dashboard for Real-Time Data Visualization**\u001b[0m\n",
      "**Step 1: Define Project Scope and Objectives**\n",
      "\n",
      "* Determine the specific problem or need that the dashboard aims to address.\n",
      "* Establish clear objectives for the dashboard's functionality and user experience.\n",
      "* Outline the target audience and their technical requirements.\n",
      "\n",
      "\n",
      "**Step 2: Research and Data Collection**\n",
      "\n",
      "* Conduct thorough research on existing data visualization tools and technologies.\n",
      "* Gather and organize relevant datasets from various sources.\n",
      "* Analyze data structure, format, and potential issues.\n",
      "\n",
      "\n",
      "**Step 3: Design and Functionality**\n",
      "\n",
      "* Create a user-friendly dashboard layout using a web development framework.\n",
      "* Implement interactive elements such as filtering, sorting, and data visualization charts.\n",
      "* Design intuitive data visualization formats, including graphs, maps, and charts.\n",
      "\n",
      "\n",
      "**Step 4: Development and Implementation**\n",
      "\n",
      "* Use a web development platform to build and deploy the dashboard.\n",
      "* Optimize the dashboard for speed and responsiveness.\n",
      "* Conduct usability testing to ensure user experience is optimal.\n",
      "\n",
      "\n",
      "**Step 5: Testing and Quality Assurance**\n",
      "\n",
      "* Thoroughly test the dashboard across different browsers and devices.\n",
      "* Identify and resolve any technical issues or usability problems.\n",
      "* Ensure compliance with accessibility standards.\n",
      "\n",
      "\n",
      "**Step 6: Deployment and Maintenance**\n",
      "\n",
      "* Deploy the dashboard on a web hosting platform.\n",
      "* Establish a maintenance plan to ensure ongoing updates and support.\n",
      "* Monitor dashboard usage and user feedback.\n",
      "\n",
      "\n",
      "**Step 7: Documentation and Communication**\n",
      "\n",
      "* Create comprehensive documentation for the dashboard's features and functionalities.\n",
      "* Communicate the dashboard's purpose and benefits to stakeholders.\n",
      "\n",
      "\n",
      "**Additional Considerations:**\n",
      "\n",
      "* **User Experience:** Design for ease of use and accessibility.\n",
      "* **Performance:** Optimize dashboard for fast loading times and responsiveness.\n",
      "* **Customization:** Allow users to personalize the dashboard to suit their preferences.\n",
      "* **Security:** Implement security measures to protect sensitive data.\n",
      "\n",
      "\n",
      "**Tools and Technologies:**\n",
      "\n",
      "* Web development frameworks: ReactJS, Angular, VueJS\n",
      "* Data visualization libraries: Chart.js, D3.js, Tableau\n",
      "* Cloud hosting platforms: AWS, Azure, Google Cloud Platform\u001b[33;1m\u001b[1;3m**Step 1: Define Project Scope and Objectives**\n",
      "\n",
      "* Determine the specific problem or need that the dashboard aims to address.\n",
      "* Establish clear objectives for the dashboard's functionality and user experience.\n",
      "* Outline the target audience and their technical requirements.\n",
      "\n",
      "\n",
      "**Step 2: Research and Data Collection**\n",
      "\n",
      "* Conduct thorough research on existing data visualization tools and technologies.\n",
      "* Gather and organize relevant datasets from various sources.\n",
      "* Analyze data structure, format, and potential issues.\n",
      "\n",
      "\n",
      "**Step 3: Design and Functionality**\n",
      "\n",
      "* Create a user-friendly dashboard layout using a web development framework.\n",
      "* Implement interactive elements such as filtering, sorting, and data visualization charts.\n",
      "* Design intuitive data visualization formats, including graphs, maps, and charts.\n",
      "\n",
      "\n",
      "**Step 4: Development and Implementation**\n",
      "\n",
      "* Use a web development platform to build and deploy the dashboard.\n",
      "* Optimize the dashboard for speed and responsiveness.\n",
      "* Conduct usability testing to ensure user experience is optimal.\n",
      "\n",
      "\n",
      "**Step 5: Testing and Quality Assurance**\n",
      "\n",
      "* Thoroughly test the dashboard across different browsers and devices.\n",
      "* Identify and resolve any technical issues or usability problems.\n",
      "* Ensure compliance with accessibility standards.\n",
      "\n",
      "\n",
      "**Step 6: Deployment and Maintenance**\n",
      "\n",
      "* Deploy the dashboard on a web hosting platform.\n",
      "* Establish a maintenance plan to ensure ongoing updates and support.\n",
      "* Monitor dashboard usage and user feedback.\n",
      "\n",
      "\n",
      "**Step 7: Documentation and Communication**\n",
      "\n",
      "* Create comprehensive documentation for the dashboard's features and functionalities.\n",
      "* Communicate the dashboard's purpose and benefits to stakeholders.\n",
      "\n",
      "\n",
      "**Additional Considerations:**\n",
      "\n",
      "* **User Experience:** Design for ease of use and accessibility.\n",
      "* **Performance:** Optimize dashboard for fast loading times and responsiveness.\n",
      "* **Customization:** Allow users to personalize the dashboard to suit their preferences.\n",
      "* **Security:** Implement security measures to protect sensitive data.\n",
      "\n",
      "\n",
      "**Tools and Technologies:**\n",
      "\n",
      "* Web development frameworks: ReactJS, Angular, VueJS\n",
      "* Data visualization libraries: Chart.js, D3.js, Tableau\n",
      "* Cloud hosting platforms: AWS, Azure, Google Cloud Platform\u001b[0m\n",
      "\n",
      "\u001b[1m> Finished chain.\u001b[0m\n",
      "verbose=True chains=[LLMChain(prompt=PromptTemplate(input_variables=['text'], template='you are a helpfull ai assistant and you will give me one project ideas name based on {text}, you will only give the name of the '), llm=Ollama(callbacks=<langchain_core.callbacks.manager.CallbackManager object at 0x000002764F13B110>, model='gemma:2b', temperature=1.0)), LLMChain(prompt=PromptTemplate(input_variables=['option'], template='guid me on how to make {option}'), llm=Ollama(callbacks=<langchain_core.callbacks.manager.CallbackManager object at 0x000002764F13B110>, model='gemma:2b', temperature=1.0))]\n"
     ]
    }
   ],
   "source": [
    "simple_chain = SimpleSequentialChain(chains=[chain, detail_chain], verbose=True)\n",
    "\n",
    "simple_chain.run(\"java script\")\n",
    "print(simple_chain)"
   ]
  },
  {
   "cell_type": "code",
   "execution_count": 44,
   "metadata": {},
   "outputs": [
    {
     "name": "stdout",
     "output_type": "stream",
     "text": [
      "\n",
      "\n",
      "\u001b[1m> Entering new SequentialChain chain...\u001b[0m\n",
      "1. Java\n",
      "2. Python\n",
      "3. C#\n",
      "4. JavaScript\n",
      "5. PHP**1. Java**\n",
      "\n",
      "```java\n",
      "public class HelloWorld {\n",
      "    public static void main(String[] args) {\n",
      "        System.out.println(\"Hello, world!\");\n",
      "    }\n",
      "}\n",
      "```\n",
      "\n",
      "**2. Python**\n",
      "\n",
      "```python\n",
      "print(\"Hello, world!\")\n",
      "```\n",
      "\n",
      "**3. C#**\n",
      "\n",
      "```csharp\n",
      "using System;\n",
      "\n",
      "public class HelloWorld\n",
      "{\n",
      "    public static void Main(string[] args)\n",
      "    {\n",
      "        Console.WriteLine(\"Hello, world!\");\n",
      "    }\n",
      "}\n",
      "```\n",
      "\n",
      "**4. JavaScript**\n",
      "\n",
      "```javascript\n",
      "console.log(\"Hello, world!\");\n",
      "```\n",
      "\n",
      "**5. PHP**\n",
      "\n",
      "```php\n",
      "<?php\n",
      "echo \"Hello, world!\";\n",
      "?>\n",
      "```\n",
      "\u001b[1m> Finished chain.\u001b[0m\n"
     ]
    },
    {
     "data": {
      "text/plain": [
       "{'name': 'programming language',\n",
       " 'language': '1. Java\\n2. Python\\n3. C#\\n4. JavaScript\\n5. PHP'}"
      ]
     },
     "execution_count": 44,
     "metadata": {},
     "output_type": "execute_result"
    }
   ],
   "source": [
    "#sequential chain\n",
    "from langchain.chains import SequentialChain\n",
    "\n",
    "prompt_template1 = PromptTemplate(\n",
    "    input_variables=[\"name\"],\n",
    "    template='give five names of {name}',\n",
    ")\n",
    "\n",
    "detail_template2 = PromptTemplate(\n",
    "    input_variables=[\"language\"],\n",
    "    template=\"write hello world in {language}\",\n",
    ")\n",
    "\n",
    "\n",
    "chain1 = LLMChain(llm=llm, prompt=prompt_template1,output_key='language')\n",
    "chain2 = LLMChain(llm=llm, prompt=detail_template2)\n",
    "\n",
    "chain = SequentialChain(\n",
    "                                    chains= [chain1, chain2],\n",
    "                                    input_variables=[\"name\"],\n",
    "                                    output_variables=['name',\"language\"],\n",
    "                                     verbose=True)\n",
    "\n",
    "chain({'name': 'programming language'})"
   ]
  }
 ],
 "metadata": {
  "kernelspec": {
   "display_name": "env",
   "language": "python",
   "name": "python3"
  },
  "language_info": {
   "codemirror_mode": {
    "name": "ipython",
    "version": 3
   },
   "file_extension": ".py",
   "mimetype": "text/x-python",
   "name": "python",
   "nbconvert_exporter": "python",
   "pygments_lexer": "ipython3",
   "version": "3.12.2"
  }
 },
 "nbformat": 4,
 "nbformat_minor": 2
}
